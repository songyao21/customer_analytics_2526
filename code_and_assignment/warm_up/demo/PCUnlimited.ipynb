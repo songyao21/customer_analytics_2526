{
 "cells": [
  {
   "cell_type": "code",
   "execution_count": 1,
   "metadata": {},
   "outputs": [],
   "source": [
    "# load libraries numpy, pandas, matplotlib\n",
    "import numpy as np\n",
    "import pandas as pd\n",
    "import matplotlib.pyplot as plt"
   ]
  },
  {
   "cell_type": "code",
   "execution_count": 2,
   "metadata": {},
   "outputs": [],
   "source": [
    "# Download and read the data\n",
    "url = \"https://songyao21.github.io/course_data/PCUnlimited.csv\"\n",
    "PCUnlimited = pd.read_csv(url)"
   ]
  },
  {
   "cell_type": "code",
   "execution_count": 3,
   "metadata": {},
   "outputs": [
    {
     "name": "stdout",
     "output_type": "stream",
     "text": [
      "   cust_num respond gender  age  numpurch  totdol       region addresstype\n",
      "0         1      no   male   37         1      59         west       urban\n",
      "1         2      no   male   41         2     118    northeast       rural\n",
      "2         3      no   male   37         1      60      midwest       urban\n",
      "3         4     yes   male   36         2     497  midatlantic       urban\n",
      "4         5      no   male   36         1      64  midatlantic       rural\n",
      "     cust_num respond  gender  age  numpurch  totdol        region addresstype\n",
      "995       996      no    male   37         2     184     northeast       urban\n",
      "996       997      no    male   44         1      62   midatlantic       rural\n",
      "997       998      no    male   38         1      52       midwest       rural\n",
      "998       999     yes  female   40         2      87     southeast       rural\n",
      "999      1000     yes  female   42         2     708  southcentral       rural\n"
     ]
    }
   ],
   "source": [
    "# Display the first and last 5 rows of the data\n",
    "print(PCUnlimited.head())\n",
    "print(PCUnlimited.tail())"
   ]
  },
  {
   "cell_type": "code",
   "execution_count": 4,
   "metadata": {},
   "outputs": [
    {
     "name": "stdout",
     "output_type": "stream",
     "text": [
      "Percentage of females: 27.50%\n"
     ]
    }
   ],
   "source": [
    "# ****** Q1, What percentage of PCUnlimited customers are female? ******\n",
    "female_count = PCUnlimited['gender'].value_counts() # count the unique values of the \"gender\" column\n",
    "female_percentage = female_count.get('female', 0) / len(PCUnlimited) * 100 # calculate the percentage of \"female\"; 0 is the default in case there is no \"female\" in the column\n",
    "print(f\"Percentage of females: {female_percentage:.2f}%\")"
   ]
  },
  {
   "cell_type": "code",
   "execution_count": 5,
   "metadata": {},
   "outputs": [
    {
     "name": "stdout",
     "output_type": "stream",
     "text": [
      "         region  num_of_customer_by_region\n",
      "0       midwest                        263\n",
      "1     northeast                        227\n",
      "2   midatlantic                        167\n",
      "3          west                        164\n",
      "4  southcentral                         98\n",
      "5     southeast                         81\n"
     ]
    }
   ],
   "source": [
    "# ****** Q2, What is the average age of PCUnlimited customers? ****** \n",
    "# Group by 'region', count the number of customers, and sort by the count in descending order\n",
    "customer_count_by_region = (\n",
    "    PCUnlimited.groupby('region')\n",
    "    .size()  # Count the number of occurrences in each group\n",
    "    .reset_index(name='num_of_customer_by_region')  # Reset index and rename count column\n",
    "    .sort_values(by='num_of_customer_by_region', ascending=False)  # Sort by count in descending order\n",
    "    .reset_index(drop=True)  # Reset index and drop the old index before the sort_values\n",
    ")\n",
    "\n",
    "print(customer_count_by_region)"
   ]
  },
  {
   "cell_type": "code",
   "execution_count": 6,
   "metadata": {},
   "outputs": [
    {
     "name": "stdout",
     "output_type": "stream",
     "text": [
      "         region  average_tot_spend_by_region\n",
      "0     northeast                   380.735683\n",
      "1  southcentral                   367.622449\n",
      "2       midwest                   357.399240\n",
      "3     southeast                   322.864198\n",
      "4   midatlantic                   301.502994\n",
      "5          west                   257.780488\n"
     ]
    }
   ],
   "source": [
    "#****** Q3, which regions have the highest and lowest average total spendings?\n",
    "# Group by 'region', calculate the average of 'totdol', and sort by the average in descending order\n",
    "average_tot_spend_by_region = (\n",
    "    PCUnlimited.groupby('region')\n",
    "    ['totdol'].mean()  # Calculate the average of 'totdol' in each group\n",
    "    .reset_index(name='average_tot_spend_by_region')  # Reset index and rename average column\n",
    "    .sort_values(by='average_tot_spend_by_region', ascending=False)  # Sort by average in descending order\n",
    "    .reset_index(drop=True)  # Reset index\n",
    ")\n",
    "\n",
    "print(average_tot_spend_by_region)\n"
   ]
  },
  {
   "cell_type": "code",
   "execution_count": 7,
   "metadata": {},
   "outputs": [
    {
     "name": "stdout",
     "output_type": "stream",
     "text": [
      "         region  average_tot_spend_by_region  total_purchases_by_region\n",
      "0   midatlantic                   301.502994                        289\n",
      "1       midwest                   357.399240                        473\n",
      "2     northeast                   380.735683                        449\n",
      "3  southcentral                   367.622449                        182\n",
      "4     southeast                   322.864198                        150\n",
      "5          west                   257.780488                        279\n"
     ]
    }
   ],
   "source": [
    "# ****** Q4, What are the average $ spent and the total # of purchases by region? \n",
    "# Group by 'region', calculate the average of 'totdol' and the sum of 'numpurch'\n",
    "# rename the columns, and reset the index\n",
    "average_tot_spend_tot_purch_by_region = (\n",
    "    PCUnlimited.groupby('region')\n",
    "    .agg(\n",
    "        average_tot_spend_by_region=('totdol', 'mean'),  # Calculate the average of 'totdol'\n",
    "        total_purchases_by_region=('numpurch', 'sum')  # Calculate the sum of 'numpurch'\n",
    "    )\n",
    "    .reset_index()  # Reset index\n",
    ")\n",
    "\n",
    "print(average_tot_spend_tot_purch_by_region)"
   ]
  },
  {
   "cell_type": "code",
   "execution_count": 8,
   "metadata": {},
   "outputs": [
    {
     "name": "stdout",
     "output_type": "stream",
     "text": [
      "   gender  average_tot_spend_by_gender  total_purchases_by_gender\n",
      "0  female                   345.392727                        496\n",
      "1    male                   331.373793                       1326\n"
     ]
    }
   ],
   "source": [
    "# ****** Q5, What are the average $ spent and the total # of purchases by gender? \n",
    "# Group by gender, calculate the average of 'totdol' and the sum of 'numpurch'\n",
    "# rename the columns, but reset the index\n",
    "average_tot_spend_tot_purch_by_gender = (\n",
    "    PCUnlimited.groupby('gender')\n",
    "    .agg(\n",
    "        average_tot_spend_by_gender=('totdol', 'mean'),  # Calculate the average of 'totdol'\n",
    "        total_purchases_by_gender=('numpurch', 'sum')  # Calculate the sum of 'numpurch'\n",
    "    )\n",
    "    .reset_index()  # Reset index\n",
    ")\n",
    "\n",
    "# average_tot_spend_tot_purch_by_gender = (\n",
    "#     PCUnlimited.groupby('gender')\n",
    "#     .agg({'totdol': 'mean', 'numpurch': 'sum'})  # Calculate the average of 'totdol' and the sum of 'numpurch'\n",
    "#     .reset_index()  # Reset index\n",
    "# )\n",
    "\n",
    "print(average_tot_spend_tot_purch_by_gender)\n"
   ]
  },
  {
   "cell_type": "code",
   "execution_count": 9,
   "metadata": {},
   "outputs": [
    {
     "name": "stdout",
     "output_type": "stream",
     "text": [
      "Correlation btw total spending and total number of orders: 0.8570\n",
      "Correlation btw total spending and total number of orders: 0.8570\n",
      "p-value: 0.0000\n"
     ]
    }
   ],
   "source": [
    "# ****** Q6, Calculate the correlation between total spending and total # of orders. \n",
    "# Calculate the correlation between 'totdol' and 'numpurch'\n",
    "\n",
    "### Method 1， using the corr() method without p-value\n",
    "correlation_tot_spend_tot_purch = PCUnlimited['totdol'].corr(PCUnlimited['numpurch'])\n",
    "print(f\"Correlation btw total spending and total number of orders: {correlation_tot_spend_tot_purch:.4f}\")\n",
    "\n",
    "### Method 2, compute the correlation's test statistics  with p-value using scipy.stats \n",
    "from scipy.stats import pearsonr\n",
    "correlation, p_value = pearsonr(PCUnlimited['totdol'], PCUnlimited['numpurch'])\n",
    "print(f\"Correlation btw total spending and total number of orders: {correlation:.4f}\")\n",
    "print(f\"p-value: {p_value:.4f}\")"
   ]
  },
  {
   "cell_type": "code",
   "execution_count": 10,
   "metadata": {},
   "outputs": [
    {
     "name": "stdout",
     "output_type": "stream",
     "text": [
      "   gender respond  n_by_gender_response  percentage\n",
      "0  female      no                   232   84.363636\n",
      "1  female     yes                    43   15.636364\n",
      "2    male      no                   632   87.172414\n",
      "3    male     yes                    93   12.827586\n"
     ]
    }
   ],
   "source": [
    "# ****** Q7, 7.\tFor both males and females, find their respective percentage of responders to the recent promotion (i.e., 'respond' == 1)?\n",
    "\n",
    "# Group by 'gender' and 'respond', then count occurrences\n",
    "response_by_gender = PCUnlimited.groupby(['gender', 'respond']).size().reset_index(name='n_by_gender_response')\n",
    "\n",
    "# Calculate the percentage of response within each gender group\n",
    "response_by_gender['percentage'] = \\\n",
    "    response_by_gender.groupby('gender')['n_by_gender_response'].transform(lambda x: x / x.sum() * 100)\n",
    "\n",
    "## Note: the funciton \"lambda x: x / x.sum() * 100\" can be replaced by the following function explicitly defined\n",
    "# def calculate_percentage(x):\n",
    "#     return x / x.sum() * 100\n",
    "\n",
    "print(response_by_gender)"
   ]
  },
  {
   "cell_type": "code",
   "execution_count": 11,
   "metadata": {},
   "outputs": [
    {
     "name": "stdout",
     "output_type": "stream",
     "text": [
      "  spending_per_order_metric       value\n",
      "0                       min    14.00000\n",
      "1                       max  1095.37500\n",
      "2                      mean   126.68333\n"
     ]
    }
   ],
   "source": [
    "# ****** Q8, what are min, max, and average of individual spending per order?\n",
    "# Calculate the min, max, and average of 'totdol' per 'numpurch'\n",
    "\n",
    "# Calculate 'spending_per_order' as a new column\n",
    "PCUnlimited['spending_per_order'] = PCUnlimited['totdol'] / PCUnlimited['numpurch']\n",
    "\n",
    "# Summarize to find min, max, and avg of 'spending_per_order'\n",
    "summary = PCUnlimited['spending_per_order'].agg(['min', 'max', 'mean']).reset_index()\n",
    "summary.columns = ['spending_per_order_metric', 'value']  # Renaming columns for clarity\n",
    "\n",
    "print(summary)\n"
   ]
  },
  {
   "cell_type": "code",
   "execution_count": 12,
   "metadata": {},
   "outputs": [
    {
     "data": {
      "image/png": "[encoded data removed]",
      "text/plain": [
       "<Figure size 1000x600 with 1 Axes>"
      ]
     },
     "metadata": {},
     "output_type": "display_data"
    }
   ],
   "source": [
    "# ****** Q9, draw a bar chart of q3 above, i.e., average totdol by region?\n",
    "# Draw a bar chart of 'average_tot_spend_by_region', the dataframe from Q3\n",
    "fig_bar, ax_bar = plt.subplots(figsize=(10, 6))\n",
    "ax_bar.bar(average_tot_spend_by_region['region'], average_tot_spend_by_region['average_tot_spend_by_region'], color='steelblue')\n",
    "ax_bar.set_xlabel('Region')\n",
    "ax_bar.set_ylabel('Average Spending')\n",
    "ax_bar.set_title('Average Spending by Region')\n",
    "\n",
    "plt.show()\n",
    "# fig_bar.savefig('Average_Spending_by_Region.png')"
   ]
  },
  {
   "cell_type": "code",
   "execution_count": 13,
   "metadata": {},
   "outputs": [
    {
     "data": {
      "text/html": [
       "<div>\n",
       "<style scoped>\n",
       "    .dataframe tbody tr th:only-of-type {\n",
       "        vertical-align: middle;\n",
       "    }\n",
       "\n",
       "    .dataframe tbody tr th {\n",
       "        vertical-align: top;\n",
       "    }\n",
       "\n",
       "    .dataframe thead th {\n",
       "        text-align: right;\n",
       "    }\n",
       "</style>\n",
       "<table border=\"1\" class=\"dataframe\">\n",
       "  <thead>\n",
       "    <tr style=\"text-align: right;\">\n",
       "      <th></th>\n",
       "      <th>cust_num</th>\n",
       "      <th>respond</th>\n",
       "      <th>gender</th>\n",
       "    </tr>\n",
       "  </thead>\n",
       "  <tbody>\n",
       "    <tr>\n",
       "      <th>0</th>\n",
       "      <td>1</td>\n",
       "      <td>no</td>\n",
       "      <td>male</td>\n",
       "    </tr>\n",
       "    <tr>\n",
       "      <th>1</th>\n",
       "      <td>2</td>\n",
       "      <td>no</td>\n",
       "      <td>male</td>\n",
       "    </tr>\n",
       "    <tr>\n",
       "      <th>2</th>\n",
       "      <td>3</td>\n",
       "      <td>no</td>\n",
       "      <td>male</td>\n",
       "    </tr>\n",
       "    <tr>\n",
       "      <th>3</th>\n",
       "      <td>4</td>\n",
       "      <td>yes</td>\n",
       "      <td>male</td>\n",
       "    </tr>\n",
       "    <tr>\n",
       "      <th>4</th>\n",
       "      <td>5</td>\n",
       "      <td>no</td>\n",
       "      <td>male</td>\n",
       "    </tr>\n",
       "  </tbody>\n",
       "</table>\n",
       "</div>"
      ],
      "text/plain": [
       "   cust_num respond gender\n",
       "0         1      no   male\n",
       "1         2      no   male\n",
       "2         3      no   male\n",
       "3         4     yes   male\n",
       "4         5      no   male"
      ]
     },
     "execution_count": 13,
     "metadata": {},
     "output_type": "execute_result"
    }
   ],
   "source": [
    "#****** Q10. Create a new dataframe that select the variables of cust_num, respond, gender\n",
    "PCUnlimited_small = PCUnlimited[['cust_num', 'respond', 'gender']].copy()\n",
    "PCUnlimited_small.head()"
   ]
  },
  {
   "cell_type": "code",
   "execution_count": 14,
   "metadata": {},
   "outputs": [
    {
     "data": {
      "text/html": [
       "<div>\n",
       "<style scoped>\n",
       "    .dataframe tbody tr th:only-of-type {\n",
       "        vertical-align: middle;\n",
       "    }\n",
       "\n",
       "    .dataframe tbody tr th {\n",
       "        vertical-align: top;\n",
       "    }\n",
       "\n",
       "    .dataframe thead th {\n",
       "        text-align: right;\n",
       "    }\n",
       "</style>\n",
       "<table border=\"1\" class=\"dataframe\">\n",
       "  <thead>\n",
       "    <tr style=\"text-align: right;\">\n",
       "      <th></th>\n",
       "      <th>cust_num</th>\n",
       "      <th>respond</th>\n",
       "      <th>gender</th>\n",
       "      <th>age</th>\n",
       "      <th>numpurch</th>\n",
       "      <th>totdol</th>\n",
       "      <th>region</th>\n",
       "      <th>addresstype</th>\n",
       "      <th>spending_per_order</th>\n",
       "    </tr>\n",
       "  </thead>\n",
       "  <tbody>\n",
       "    <tr>\n",
       "      <th>0</th>\n",
       "      <td>12</td>\n",
       "      <td>yes</td>\n",
       "      <td>female</td>\n",
       "      <td>38</td>\n",
       "      <td>2</td>\n",
       "      <td>151</td>\n",
       "      <td>midwest</td>\n",
       "      <td>urban</td>\n",
       "      <td>75.5</td>\n",
       "    </tr>\n",
       "    <tr>\n",
       "      <th>1</th>\n",
       "      <td>13</td>\n",
       "      <td>yes</td>\n",
       "      <td>female</td>\n",
       "      <td>54</td>\n",
       "      <td>6</td>\n",
       "      <td>2286</td>\n",
       "      <td>southeast</td>\n",
       "      <td>urban</td>\n",
       "      <td>381.0</td>\n",
       "    </tr>\n",
       "    <tr>\n",
       "      <th>2</th>\n",
       "      <td>15</td>\n",
       "      <td>no</td>\n",
       "      <td>female</td>\n",
       "      <td>35</td>\n",
       "      <td>1</td>\n",
       "      <td>946</td>\n",
       "      <td>midwest</td>\n",
       "      <td>urban</td>\n",
       "      <td>946.0</td>\n",
       "    </tr>\n",
       "    <tr>\n",
       "      <th>3</th>\n",
       "      <td>34</td>\n",
       "      <td>yes</td>\n",
       "      <td>female</td>\n",
       "      <td>39</td>\n",
       "      <td>2</td>\n",
       "      <td>52</td>\n",
       "      <td>northeast</td>\n",
       "      <td>urban</td>\n",
       "      <td>26.0</td>\n",
       "    </tr>\n",
       "    <tr>\n",
       "      <th>4</th>\n",
       "      <td>35</td>\n",
       "      <td>no</td>\n",
       "      <td>female</td>\n",
       "      <td>38</td>\n",
       "      <td>2</td>\n",
       "      <td>75</td>\n",
       "      <td>midatlantic</td>\n",
       "      <td>urban</td>\n",
       "      <td>37.5</td>\n",
       "    </tr>\n",
       "  </tbody>\n",
       "</table>\n",
       "</div>"
      ],
      "text/plain": [
       "   cust_num respond  gender  age  numpurch  totdol       region addresstype  \\\n",
       "0        12     yes  female   38         2     151      midwest       urban   \n",
       "1        13     yes  female   54         6    2286    southeast       urban   \n",
       "2        15      no  female   35         1     946      midwest       urban   \n",
       "3        34     yes  female   39         2      52    northeast       urban   \n",
       "4        35      no  female   38         2      75  midatlantic       urban   \n",
       "\n",
       "   spending_per_order  \n",
       "0                75.5  \n",
       "1               381.0  \n",
       "2               946.0  \n",
       "3                26.0  \n",
       "4                37.5  "
      ]
     },
     "execution_count": 14,
     "metadata": {},
     "output_type": "execute_result"
    }
   ],
   "source": [
    "#****** Q11. Create a new dataframe that filters to keep only female and addresstype=='urban'\n",
    "PCUnlimited_female_urban = PCUnlimited[(PCUnlimited['gender'] == 'female') & (PCUnlimited['addresstype'] == 'urban')].copy()\n",
    "PCUnlimited_female_urban.reset_index(drop=True, inplace=True)\n",
    "PCUnlimited_female_urban.head()"
   ]
  }
 ],
 "metadata": {
  "kernelspec": {
   "display_name": "Python 3",
   "language": "python",
   "name": "python3"
  },
  "language_info": {
   "codemirror_mode": {
    "name": "ipython",
    "version": 3
   },
   "file_extension": ".py",
   "mimetype": "text/x-python",
   "name": "python",
   "nbconvert_exporter": "python",
   "pygments_lexer": "ipython3",
   "version": "3.9.18"
  }
 },
 "nbformat": 4,
 "nbformat_minor": 2
}
